{
  "nbformat": 4,
  "nbformat_minor": 0,
  "metadata": {
    "colab": {
      "name": "K-Means_example1.ipynb",
      "provenance": [],
      "authorship_tag": "ABX9TyOpyO0UQlzu30TE3XEvFIxK",
      "include_colab_link": true
    },
    "kernelspec": {
      "name": "python3",
      "display_name": "Python 3"
    }
  },
  "cells": [
    {
      "cell_type": "markdown",
      "metadata": {
        "id": "view-in-github",
        "colab_type": "text"
      },
      "source": [
        "<a href=\"https://colab.research.google.com/github/gorogoro-uk/Machine-Learning/blob/master/K_Means_example1.ipynb\" target=\"_parent\"><img src=\"https://colab.research.google.com/assets/colab-badge.svg\" alt=\"Open In Colab\"/></a>"
      ]
    },
    {
      "cell_type": "markdown",
      "metadata": {
        "id": "yIyst2BVCoGX"
      },
      "source": [
        "### Example: K Means Clustering Pipeline"
      ]
    },
    {
      "cell_type": "markdown",
      "metadata": {
        "id": "Q61GkjzsEgli"
      },
      "source": [
        "Establish KMeans pipeline. \n",
        "Use PCA to reduce dimensionality.\n",
        "Find the optimal number of clusters.\n",
        "\n",
        "Compare prediction with reality, in this case there is a known cluster label."
      ]
    },
    {
      "cell_type": "code",
      "metadata": {
        "id": "Nc6-Wi_SClo6",
        "outputId": "8420c4ec-a3fc-4072-918d-80dfa5d9da02",
        "colab": {
          "base_uri": "https://localhost:8080/",
          "height": 71
        }
      },
      "source": [
        "import tarfile\n",
        "import urllib\n",
        "\n",
        "import numpy as np\n",
        "import matplotlib.pyplot as plt\n",
        "import pandas as pd\n",
        "import seaborn as sns\n",
        "\n",
        "from sklearn.cluster import KMeans\n",
        "from sklearn.decomposition import PCA\n",
        "from sklearn.metrics import silhouette_score, adjusted_rand_score\n",
        "from sklearn.pipeline import Pipeline\n",
        "from sklearn.preprocessing import LabelEncoder, MinMaxScaler"
      ],
      "execution_count": 1,
      "outputs": [
        {
          "output_type": "stream",
          "text": [
            "/usr/local/lib/python3.6/dist-packages/statsmodels/tools/_testing.py:19: FutureWarning: pandas.util.testing is deprecated. Use the functions in the public API at pandas.testing instead.\n",
            "  import pandas.util.testing as tm\n"
          ],
          "name": "stderr"
        }
      ]
    },
    {
      "cell_type": "code",
      "metadata": {
        "id": "C3w0sJhqCsH2"
      },
      "source": [
        "# get data from UCI\n",
        "uci_tcga_url = \"https://archive.ics.uci.edu/ml/machine-learning-databases/00401/\"\n",
        "archive_name = \"TCGA-PANCAN-HiSeq-801x20531.tar.gz\"\n",
        "\n",
        "# Build the url\n",
        "full_download_url = urllib.parse.urljoin(uci_tcga_url, archive_name)\n",
        "\n",
        "# Download the file\n",
        "r = urllib.request.urlretrieve (full_download_url, archive_name)\n",
        "\n",
        "# Extract the data from the archive\n",
        "tar = tarfile.open(archive_name, \"r:gz\")\n",
        "tar.extractall()\n",
        "tar.close()"
      ],
      "execution_count": 2,
      "outputs": []
    },
    {
      "cell_type": "code",
      "metadata": {
        "id": "RAX2kK0NCsMB"
      },
      "source": [
        "# prepare data files\n",
        "datafile = \"TCGA-PANCAN-HiSeq-801x20531/data.csv\"\n",
        "labels_file = \"TCGA-PANCAN-HiSeq-801x20531/labels.csv\"\n",
        "\n",
        "# Features: generate numpy array from txt file\n",
        "data = np.genfromtxt(\n",
        "     datafile,\n",
        "     delimiter=\",\",\n",
        "     usecols=range(1, 20532),\n",
        "     skip_header=1)\n",
        "\n",
        "# Labels: generate from txt file (in this case there are known correct cluster labels)\n",
        "true_label_names = np.genfromtxt(\n",
        "     labels_file,\n",
        "     delimiter=\",\",\n",
        "     usecols=(1,),\n",
        "     skip_header=1,\n",
        "     dtype=\"str\")"
      ],
      "execution_count": 3,
      "outputs": []
    },
    {
      "cell_type": "code",
      "metadata": {
        "id": "CMEKGKfRCsQw"
      },
      "source": [
        "# inspect data & true labels\n",
        "data[:5, :3]\n",
        "true_label_names[:5]"
      ],
      "execution_count": null,
      "outputs": []
    },
    {
      "cell_type": "code",
      "metadata": {
        "id": "ENeHpvB1CsUe"
      },
      "source": [
        "# encode labels with integer values\n",
        "label_encoder = LabelEncoder()\n",
        "true_labels = label_encoder.fit_transform(true_label_names)\n",
        "\n",
        "true_labels[:5]"
      ],
      "execution_count": null,
      "outputs": []
    },
    {
      "cell_type": "code",
      "metadata": {
        "id": "KNH42IsiCsYH"
      },
      "source": [
        "# inspect label class names used by encoder\n",
        "label_encoder.classes_"
      ],
      "execution_count": null,
      "outputs": []
    },
    {
      "cell_type": "code",
      "metadata": {
        "id": "gaqHbC0ECscc"
      },
      "source": [
        "# true number of clusters \n",
        "n_clusters = len(label_encoder.classes_)"
      ],
      "execution_count": null,
      "outputs": []
    },
    {
      "cell_type": "code",
      "metadata": {
        "id": "5w5vR_gjCshQ"
      },
      "source": [
        "# Data preprocessing\n",
        "# Use MinMaxScaler, standardise values between 0 and 1\n",
        "# Use PCA, retain top two dimensions\n",
        "preprocessor = Pipeline([(\"scaler\", MinMaxScaler()),\n",
        "                         (\"pca\", PCA(n_components=2, random_state=42)),])"
      ],
      "execution_count": null,
      "outputs": []
    },
    {
      "cell_type": "code",
      "metadata": {
        "id": "XRHhuaKRCgyg"
      },
      "source": [
        "# K Means clustering pipeline\n",
        "clusterer = Pipeline([(\"kmeans\",\n",
        "              KMeans(n_clusters=n_clusters,\n",
        "              init=\"k-means++\",    # use best initialisation\n",
        "              n_init=50,           # number of trials to work out best SSE\n",
        "              max_iter=500,        # max number of iterations\n",
        "              random_state=42,),),])"
      ],
      "execution_count": null,
      "outputs": []
    },
    {
      "cell_type": "code",
      "metadata": {
        "id": "5Vc0YPJSD0P4"
      },
      "source": [
        "# define full pipeline: pre-processing & clusterming\n",
        "pipe = Pipeline([(\"preprocessor\", preprocessor),\n",
        "                 (\"clusterer\", clusterer)])"
      ],
      "execution_count": null,
      "outputs": []
    },
    {
      "cell_type": "code",
      "metadata": {
        "id": "G7tx5W-KD48-"
      },
      "source": [
        "# fit data\n",
        "pipe.fit(data)"
      ],
      "execution_count": null,
      "outputs": []
    },
    {
      "cell_type": "code",
      "metadata": {
        "id": "6aKJDxtSD5F6"
      },
      "source": [
        "# pre-process data\n",
        "preprocessed_data = pipe[\"preprocessor\"].transform(data)\n",
        "\n",
        "# inspect predicted cluster labels\n",
        "predicted_labels = pipe[\"clusterer\"][\"kmeans\"].labels_\n",
        "\n",
        "# inspect silhouette score to assess best K\n",
        "silhouette_score(preprocessed_data, predicted_labels)"
      ],
      "execution_count": null,
      "outputs": []
    },
    {
      "cell_type": "code",
      "metadata": {
        "id": "TltqjIldD5OP"
      },
      "source": [
        "# \n",
        "adjusted_rand_score(true_labels, predicted_labels)"
      ],
      "execution_count": null,
      "outputs": []
    },
    {
      "cell_type": "code",
      "metadata": {
        "id": "E2sOlW8VEGoc"
      },
      "source": [
        "# put in dataframe\n",
        "pcadf = pd.DataFrame(pipe[\"preprocessor\"].transform(data),\n",
        "                    columns=[\"component_1\", \"component_2\"],\n",
        ")\n",
        "# add predicted cluster label to df\n",
        "pcadf[\"predicted_cluster\"] = pipe[\"clusterer\"][\"kmeans\"].labels_\n",
        "\n",
        "# add true cluster label column to df\n",
        "pcadf[\"true_label\"] = label_encoder.inverse_transform(true_labels)"
      ],
      "execution_count": null,
      "outputs": []
    },
    {
      "cell_type": "code",
      "metadata": {
        "id": "pyS0f4VeEPgu"
      },
      "source": [
        "# visualise results\n",
        "plt.style.use(\"fivethirtyeight\")\n",
        "plt.figure(figsize=(8, 8))\n",
        "\n",
        "scat = sns.scatterplot(\n",
        "     \"component_1\",\n",
        "     \"component_2\",\n",
        "     s=50,\n",
        "     data=pcadf,\n",
        "     hue=\"predicted_cluster\",\n",
        "     style=\"true_label\",\n",
        "     palette=\"Set2\",\n",
        ")\n",
        "\n",
        "scat.set_title(\"Clustering results from TCGA Pan-Cancer\\nGene Expression Data\")\n",
        "plt.legend(bbox_to_anchor=(1.05, 1), loc=2, borderaxespad=0.0)\n",
        "plt.show()"
      ],
      "execution_count": null,
      "outputs": []
    }
  ]
}